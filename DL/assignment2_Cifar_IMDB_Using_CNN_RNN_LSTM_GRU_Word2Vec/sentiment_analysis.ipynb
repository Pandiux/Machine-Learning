{
  "nbformat": 4,
  "nbformat_minor": 0,
  "metadata": {
    "kernelspec": {
      "display_name": "Python 3",
      "language": "python",
      "name": "python3"
    },
    "language_info": {
      "codemirror_mode": {
        "name": "ipython",
        "version": 3
      },
      "file_extension": ".py",
      "mimetype": "text/x-python",
      "name": "python",
      "nbconvert_exporter": "python",
      "pygments_lexer": "ipython3",
      "version": "3.7.3"
    },
    "colab": {
      "name": "sentiment_analysis.ipynb",
      "provenance": [],
      "collapsed_sections": []
    }
  },
  "cells": [
    {
      "cell_type": "markdown",
      "metadata": {
        "id": "zTogyuZga6nn",
        "colab_type": "text"
      },
      "source": [
        "Rajendra Singh (111601017)"
      ]
    },
    {
      "cell_type": "markdown",
      "metadata": {
        "id": "PlEOTgh-bDoI",
        "colab_type": "text"
      },
      "source": [
        "To view below notebook in colab click here\n",
        "https://colab.research.google.com/drive/1MXy_9XRxPZBn2MN1axti6YcvtRoVpAFt"
      ]
    },
    {
      "cell_type": "markdown",
      "metadata": {
        "id": "K1ljv-vtM9XP",
        "colab_type": "text"
      },
      "source": [
        "# ============================= Adding data directory ===================="
      ]
    },
    {
      "cell_type": "code",
      "metadata": {
        "colab_type": "code",
        "id": "p6yiw_lvTUfK",
        "colab": {
          "base_uri": "https://localhost:8080/",
          "height": 34
        },
        "outputId": "79ee8a5d-67d9-4ccc-f567-c5f4d775ada8"
      },
      "source": [
        "# from google.colab import drive\n",
        "# drive.mount('/content/gdrive')\n",
        "# !cp \"gdrive/My Drive/DeepLearning/Assign3/ques2/data\" -r data/"
      ],
      "execution_count": 77,
      "outputs": [
        {
          "output_type": "stream",
          "text": [
            "Drive already mounted at /content/gdrive; to attempt to forcibly remount, call drive.mount(\"/content/gdrive\", force_remount=True).\n"
          ],
          "name": "stdout"
        }
      ]
    },
    {
      "cell_type": "markdown",
      "metadata": {
        "id": "vSyMYW53NMCR",
        "colab_type": "text"
      },
      "source": [
        "# ============================= Imports ===================="
      ]
    },
    {
      "cell_type": "code",
      "metadata": {
        "id": "s0Ofd7YqTOop",
        "colab_type": "code",
        "colab": {
          "base_uri": "https://localhost:8080/",
          "height": 34
        },
        "outputId": "48c49836-794c-4d97-efd2-268bebfe4cb5"
      },
      "source": [
        "from __future__ import absolute_import, division, print_function, unicode_literals\n",
        "\n",
        "import numpy as np\n",
        "import os\n",
        "import multiprocessing\n",
        "import matplotlib.pyplot as plt\n",
        "import tensorflow as tf\n",
        "from scipy.spatial.distance import cdist\n",
        "\n",
        "import keras\n",
        "from keras.models import Sequential\n",
        "from keras.layers import LSTM, GRU, Embedding, Dense, Flatten, Dropout,SimpleRNN,Reshape\n",
        "from keras.preprocessing.text import Tokenizer\n",
        "from keras.preprocessing.sequence import pad_sequences\n",
        "from keras.optimizers import Adam\n",
        "from keras.datasets import imdb\n",
        "\n",
        "from keras.models import Sequential, load_model\n",
        "from keras.callbacks import EarlyStopping, ModelCheckpoint\n",
        "from keras import backend as K\n",
        "\n",
        "from sklearn import datasets, linear_model\n",
        "from sklearn.model_selection import train_test_split\n",
        "from matplotlib import pyplot as plt\n",
        "from time import *\n",
        "\n",
        "import gensim\n",
        "from gensim import corpora, models, similarities\n",
        "from gensim.test.utils import common_texts, get_tmpfile\n",
        "from gensim.models import Word2Vec\n",
        "from gensim.models import KeyedVectors\n",
        "from gensim.models.doc2vec import TaggedDocument\n",
        "\n",
        "\n",
        "import os\n",
        "tf.__version__"
      ],
      "execution_count": 146,
      "outputs": [
        {
          "output_type": "execute_result",
          "data": {
            "text/plain": [
              "'1.15.0'"
            ]
          },
          "metadata": {
            "tags": []
          },
          "execution_count": 146
        }
      ]
    },
    {
      "cell_type": "code",
      "metadata": {
        "id": "mcwQdWnLdKNA",
        "colab_type": "code",
        "colab": {}
      },
      "source": [
        "# (x_train, y_train), (x_test, y_test) = imdb.load_data(path=\"imdb.npz\")"
      ],
      "execution_count": 0,
      "outputs": []
    },
    {
      "cell_type": "markdown",
      "metadata": {
        "id": "z_omZZjeNSlT",
        "colab_type": "text"
      },
      "source": [
        "# ============================= Load data ==================="
      ]
    },
    {
      "cell_type": "code",
      "metadata": {
        "id": "G0w9uwX_TOou",
        "colab_type": "code",
        "colab": {
          "base_uri": "https://localhost:8080/",
          "height": 255
        },
        "outputId": "f25b6a8e-215c-4766-cb8a-a82ebf972c14"
      },
      "source": [
        "import pandas as pd\n",
        "from nltk.tokenize import RegexpTokenizer\n",
        "\n",
        "tokenizer = RegexpTokenizer('[a-zA-Z]{2,}')\n",
        "train_df = pd.read_csv('data/train.txt', delimiter='\\n', header=None, names=['X'])\n",
        "test_df = pd.read_csv('data/test.txt', delimiter='\\n', header=None, names=['X'])\n",
        "\n",
        "col_y = ([1] * 12500) + ([0] * 12500)\n",
        "train_df.insert (1, 'Y', col_y, True)\n",
        "test_df.insert (1, 'Y', col_y, True)\n",
        "\n",
        "print (len(train_df))\n",
        "print (len(test_df))\n",
        "print (train_df.head())\n",
        "print (test_df.tail())"
      ],
      "execution_count": 80,
      "outputs": [
        {
          "output_type": "stream",
          "text": [
            "25000\n",
            "25000\n",
            "                                                   X  Y\n",
            "0  Bromwell High is a cartoon comedy. It ran at t...  1\n",
            "1  Homelessness (or Houselessness as George Carli...  1\n",
            "2  Brilliant over-acting by Lesley Ann Warren. Be...  1\n",
            "3  This is easily the most underrated film inn th...  1\n",
            "4  This is not the typical Mel Brooks film. It wa...  1\n",
            "                                                       X  Y\n",
            "24995  I occasionally let my kids watch this garbage ...  0\n",
            "24996  When all we have anymore is pretty much realit...  0\n",
            "24997  The basic genre is a thriller intercut with an...  0\n",
            "24998  Four things intrigued me as to this film - fir...  0\n",
            "24999  David Bryce's comments nearby are exceptionall...  0\n"
          ],
          "name": "stdout"
        }
      ]
    },
    {
      "cell_type": "markdown",
      "metadata": {
        "id": "G2ytLkF2OGjj",
        "colab_type": "text"
      },
      "source": [
        "# ============================= Preprocess data ==================="
      ]
    },
    {
      "cell_type": "code",
      "metadata": {
        "id": "gC6yzannTOox",
        "colab_type": "code",
        "colab": {
          "base_uri": "https://localhost:8080/",
          "height": 119
        },
        "outputId": "77931784-9592-4a84-d488-bacebe4b29aa"
      },
      "source": [
        "import string\n",
        "import nltk\n",
        "from nltk.tokenize import RegexpTokenizer\n",
        "tokenizer = RegexpTokenizer('[a-zA-Z]{2,}')\n",
        "\n",
        "def preprocess (text):\n",
        "    tokens = tokenizer.tokenize(text)\n",
        "    tokens = [word.lower() for word in tokens]\n",
        "    return (\" \".join(tokens))\n",
        "    \n",
        "train_df['X'] = train_df.apply(lambda row: preprocess(row['X']), axis=1)\n",
        "test_df['X'] = test_df.apply(lambda row: preprocess(row['X']), axis=1)\n",
        "print (train_df.head())"
      ],
      "execution_count": 81,
      "outputs": [
        {
          "output_type": "stream",
          "text": [
            "                                                   X  Y\n",
            "0  bromwell high is cartoon comedy it ran at the ...  1\n",
            "1  homelessness or houselessness as george carlin...  1\n",
            "2  brilliant over acting by lesley ann warren bes...  1\n",
            "3  this is easily the most underrated film inn th...  1\n",
            "4  this is not the typical mel brooks film it was...  1\n"
          ],
          "name": "stdout"
        }
      ]
    },
    {
      "cell_type": "code",
      "metadata": {
        "id": "SpnwVepNTOo0",
        "colab_type": "code",
        "colab": {
          "base_uri": "https://localhost:8080/",
          "height": 173
        },
        "outputId": "aa625227-1df7-48c8-d296-44e5c6585f3e"
      },
      "source": [
        "encoded_train_df = train_df.copy(deep=True)\n",
        "encoded_test_df = test_df.copy(deep=True)\n",
        "\n",
        "vocab = {}\n",
        "k = 1\n",
        "\n",
        "def encode (text):\n",
        "    global k\n",
        "    words = text.split()\n",
        "    code = []\n",
        "    for word in words:\n",
        "        if word not in vocab:\n",
        "            vocab[word] = k\n",
        "            k += 1\n",
        "        code.append(vocab[word])\n",
        "\n",
        "    if len(code) > 200:\n",
        "        code = code[:200]\n",
        "    code = code + [0] * (200 - len(code))\n",
        "    return code\n",
        "\n",
        "encoded_train_df['X'] = encoded_train_df.apply(lambda row: encode(row['X']), axis=1)\n",
        "encoded_test_df['X'] = encoded_test_df.apply(lambda row: encode(row['X']), axis=1)\n",
        "\n",
        "print (encoded_train_df.head())\n",
        "\n",
        "sample = encoded_train_df.iloc[0]['X']\n",
        "print ('Sample padded sequence:', sample)\n",
        "\n",
        "vocab_size = len(vocab)\n",
        "print ('vocab_size:', vocab_size)\n",
        "\n",
        "from sklearn.model_selection import train_test_split\n",
        "encoded_train_df, encoded_val_df = train_test_split(encoded_train_df, test_size=0.2)"
      ],
      "execution_count": 82,
      "outputs": [
        {
          "output_type": "stream",
          "text": [
            "                                                   X  Y\n",
            "0  [1, 2, 3, 4, 5, 6, 7, 8, 9, 10, 11, 12, 13, 14...  1\n",
            "1  [87, 88, 89, 12, 90, 91, 92, 93, 94, 95, 96, 9...  1\n",
            "2  [287, 288, 289, 203, 214, 215, 216, 290, 291, ...  1\n",
            "3  [282, 3, 356, 9, 116, 357, 283, 358, 9, 164, 3...  1\n",
            "4  [282, 3, 236, 9, 405, 163, 164, 283, 6, 406, 3...  1\n",
            "Sample padded sequence: [1, 2, 3, 4, 5, 6, 7, 8, 9, 10, 11, 12, 13, 14, 15, 16, 17, 18, 19, 12, 20, 21, 22, 23, 9, 24, 25, 26, 27, 28, 29, 30, 1, 2, 31, 3, 32, 33, 28, 34, 35, 3, 20, 9, 36, 28, 37, 38, 9, 39, 40, 41, 42, 43, 44, 45, 46, 47, 20, 48, 9, 49, 50, 9, 51, 52, 53, 54, 27, 50, 9, 55, 56, 57, 46, 40, 58, 59, 9, 60, 23, 61, 62, 63, 64, 28, 65, 66, 9, 17, 67, 68, 8, 2, 69, 70, 71, 72, 28, 73, 74, 50, 75, 20, 62, 76, 28, 1, 2, 77, 30, 78, 79, 50, 21, 80, 81, 30, 1, 2, 3, 82, 83, 84, 85, 30, 6, 86, 0, 0, 0, 0, 0, 0, 0, 0, 0, 0, 0, 0, 0, 0, 0, 0, 0, 0, 0, 0, 0, 0, 0, 0, 0, 0, 0, 0, 0, 0, 0, 0, 0, 0, 0, 0, 0, 0, 0, 0, 0, 0, 0, 0, 0, 0, 0, 0, 0, 0, 0, 0, 0, 0, 0, 0, 0, 0, 0, 0, 0, 0, 0, 0, 0, 0, 0, 0, 0, 0, 0, 0]\n",
            "vocab_size: 99401\n"
          ],
          "name": "stdout"
        }
      ]
    },
    {
      "cell_type": "markdown",
      "metadata": {
        "id": "MPMPx1X8OLyU",
        "colab_type": "text"
      },
      "source": [
        ""
      ]
    },
    {
      "cell_type": "markdown",
      "metadata": {
        "id": "p_L-WcJ-OQUD",
        "colab_type": "text"
      },
      "source": [
        "# ============================= Parameters ==================="
      ]
    },
    {
      "cell_type": "code",
      "metadata": {
        "id": "AMHL7T7gylce",
        "colab_type": "code",
        "colab": {}
      },
      "source": [
        "lr=1e-4\n",
        "batch_size=256\n",
        "epochs=10\n",
        "# list of param to store result of various models\n",
        "TotalNoPara=[0]*7\n",
        "TrainingTime=[0]*7\n",
        "TrainingAccuracy = [0]*7\n",
        "ValidationAccuracy = [0]*7\n",
        "TestAccuracy = [0]*7"
      ],
      "execution_count": 0,
      "outputs": []
    },
    {
      "cell_type": "markdown",
      "metadata": {
        "id": "a8lyLU1YOXJR",
        "colab_type": "text"
      },
      "source": [
        "# ============================= Data formating ==================="
      ]
    },
    {
      "cell_type": "code",
      "metadata": {
        "id": "4CBkANYvTOo4",
        "colab_type": "code",
        "colab": {}
      },
      "source": [
        "x_train = np.array(encoded_train_df['X'].tolist())\n",
        "y_train = np.array(encoded_train_df['Y'].tolist())\n",
        "x_val = np.array(encoded_val_df['X'].tolist())\n",
        "y_val = np.array(encoded_val_df['Y'].tolist())\n",
        "x_test = np.array(encoded_test_df['X'].tolist())\n",
        "y_test = np.array(encoded_test_df['Y'].tolist())"
      ],
      "execution_count": 0,
      "outputs": []
    },
    {
      "cell_type": "markdown",
      "metadata": {
        "id": "5xom9Du8Ob_z",
        "colab_type": "text"
      },
      "source": [
        "# ============================= Create Helper Functions ==================="
      ]
    },
    {
      "cell_type": "code",
      "metadata": {
        "id": "GYdCCQGpiSM7",
        "colab_type": "code",
        "colab": {}
      },
      "source": [
        "#=========================== lets create model =================#\n",
        "def createModel(flag, NoLayers=1, word2vec=0,input_size=1, num_words=100000,embedding_size=128):\n",
        "    print('NoLayers:',NoLayers,\"\\n\")\n",
        "    model = Sequential()\n",
        "    if word2vec==0:\n",
        "      model.add(Embedding(input_dim=num_words, output_dim=embedding_size,input_length=200))\n",
        "    else:\n",
        "      pass\n",
        "      # model.add(Dense(input_size, input_shape=(input_size,)))\n",
        "      # model.add(Flatten(data_format=None))\n",
        "\n",
        "    for j in range(0,NoLayers):\n",
        "      if flag==1:\n",
        "        if j!=(NoLayers-1):\n",
        "          model.add(SimpleRNN(200, activation='tanh',return_sequences=True))\n",
        "        else:\n",
        "          model.add(SimpleRNN(200, activation='tanh'))\n",
        "      elif flag==2:\n",
        "        model.add(LSTM(200, activation='tanh', recurrent_activation='tanh'))\n",
        "      elif flag==3:\n",
        "        model.add(GRU(200, activation='relu', recurrent_activation='relu'))\n",
        "      # model.add(Reshape((1,3)))\n",
        "    model.add(Dense(1, activation='sigmoid'))\n",
        "    return model\n",
        "\n",
        "\n",
        "# ===================== Function to train model ================\n",
        "def trainModel(i,model,lr):\n",
        "  print(\"\\n----------------- \", \"Training Starts\", \" ------------------------------\\n\")\n",
        "  model.compile(loss=keras.losses.binary_crossentropy, optimizer=keras.optimizers.Adam(lr=lr), metrics=['accuracy'])\n",
        "  es = EarlyStopping(monitor='val_acc', mode='max', verbose=1, patience=1) #early stop if validation loss increases \n",
        "  mc = ModelCheckpoint('best_Model.h5', monitor='val_acc', mode='max', verbose=1, save_best_only=True)\n",
        "  tempt = time()\n",
        "  history =  model.fit(x_train, y_train, batch_size=batch_size, epochs=epochs, workers=4, verbose=1, validation_data=(x_val, y_val), callbacks=[es, mc])\n",
        "  \n",
        "  tempt = time() - tempt\n",
        "  TrainingTime[i]=tempt\n",
        "  print(\"\\n----------------- \", \"Training Ends\", \" ------------------------------\\n\")\n",
        "  print(\"\\n----------------------- Time ---------------------------\\n\")\n",
        "  print(\"\\nTraining time(sec): \", tempt,\"\\n\")\n",
        "\n",
        "  print(\"\\n----------------------- Plots ---------------------------\\n\")\n",
        "  # Plot training & validation accuracy values\n",
        "  plt.plot(history.history['acc'])\n",
        "  plt.plot(history.history['val_acc'])\n",
        "  plt.title('Model accuracy')\n",
        "  plt.ylabel('Accuracy')\n",
        "  plt.xlabel('Epoch')\n",
        "  plt.legend(['Train', 'Test'], loc='upper left')\n",
        "  plt.show()\n",
        "\n",
        "  # Plot training & validation loss values\n",
        "  plt.plot(history.history['loss'])\n",
        "  plt.plot(history.history['val_loss'])\n",
        "  plt.title('Model loss')\n",
        "  plt.ylabel('Loss')\n",
        "  plt.xlabel('Epoch')\n",
        "  plt.legend(['Train', 'Test'], loc='upper left')\n",
        "  plt.show()\n",
        "  \n",
        "  model = load_model('best_Model.h5')\n",
        "  print(\"\\n----------------- \", \"Model Summury\", \" ------------------------------\\n\")\n",
        "  print(model.summary())\n",
        "  return model, tempt\n",
        "\n",
        "\n",
        "# ===================== Funtion to evaluate model ================\n",
        "def evalModel(i,model):\n",
        "  score = model.evaluate(x_test, y_test, verbose=0) #evaluating on test set\n",
        "  print(\"\\n------------------------- Evaluation --------------------------\\n\")\n",
        "  print('Test loss:', score[0])\n",
        "  print('Test accuracy:', score[1])\n",
        "  TestAccuracy[i] = score[1]\n",
        "  TrainingAccuracy[i] = model.evaluate(x_train, y_train, verbose=0)[1]\n",
        "  ValidationAccuracy[i] = model.evaluate(x_val, y_val, verbose=0)[1]\n",
        "  TotalNoPara[i] = model.count_params()\n",
        "  return score[0], score[1]"
      ],
      "execution_count": 0,
      "outputs": []
    },
    {
      "cell_type": "markdown",
      "metadata": {
        "id": "bqTPowOZ-S6z",
        "colab_type": "text"
      },
      "source": [
        "# ============================= Model 1 ========================"
      ]
    },
    {
      "cell_type": "code",
      "metadata": {
        "id": "1N_bB46z6mki",
        "colab_type": "code",
        "colab": {
          "base_uri": "https://localhost:8080/",
          "height": 1000
        },
        "outputId": "f74d5323-f861-44fe-d697-1698e0297fd1"
      },
      "source": [
        "epochs=2\n",
        "#================== Create model ================\n",
        "model =  createModel(1)\n",
        "#================== Train model ================\n",
        "model,_ = trainModel(1,model,lr)\n",
        "#================== eval model ================\n",
        "loss_ci, acc_ci = evalModel(1,model)"
      ],
      "execution_count": 106,
      "outputs": [
        {
          "output_type": "stream",
          "text": [
            "\n",
            "-----------------  Training Starts  ------------------------------\n",
            "\n",
            "Train on 20000 samples, validate on 5000 samples\n",
            "Epoch 1/2\n",
            "20000/20000 [==============================] - 73s 4ms/step - loss: 0.6934 - acc: 0.5147 - val_loss: 0.6947 - val_acc: 0.4970\n",
            "\n",
            "Epoch 00001: val_acc improved from -inf to 0.49700, saving model to best_Model.h5\n",
            "Epoch 2/2\n",
            "20000/20000 [==============================] - 70s 4ms/step - loss: 0.6865 - acc: 0.5475 - val_loss: 0.6960 - val_acc: 0.5032\n",
            "\n",
            "Epoch 00002: val_acc improved from 0.49700 to 0.50320, saving model to best_Model.h5\n",
            "\n",
            "-----------------  Training Ends  ------------------------------\n",
            "\n",
            "\n",
            "----------------------- Time ---------------------------\n",
            "\n",
            "\n",
            "Training time(sec):  148.70033192634583 \n",
            "\n",
            "\n",
            "----------------------- Plots ---------------------------\n",
            "\n"
          ],
          "name": "stdout"
        },
        {
          "output_type": "display_data",
          "data": {
            "image/png": "[encoded data removed]",
            "text/plain": [
              "<Figure size 432x288 with 1 Axes>"
            ]
          },
          "metadata": {
            "tags": []
          }
        },
        {
          "output_type": "display_data",
          "data": {
            "image/png": "[encoded data removed]",
            "text/plain": [
              "<Figure size 432x288 with 1 Axes>"
            ]
          },
          "metadata": {
            "tags": []
          }
        },
        {
          "output_type": "stream",
          "text": [
            "\n",
            "-----------------  Model Summury  ------------------------------\n",
            "\n",
            "Model: \"sequential_26\"\n",
            "_________________________________________________________________\n",
            "Layer (type)                 Output Shape              Param #   \n",
            "=================================================================\n",
            "embedding_26 (Embedding)     (None, 200, 128)          12800000  \n",
            "_________________________________________________________________\n",
            "simple_rnn_7 (SimpleRNN)     (None, 200)               65800     \n",
            "_________________________________________________________________\n",
            "dense_26 (Dense)             (None, 1)                 201       \n",
            "=================================================================\n",
            "Total params: 12,866,001\n",
            "Trainable params: 12,866,001\n",
            "Non-trainable params: 0\n",
            "_________________________________________________________________\n",
            "None\n",
            "\n",
            "------------------------- Evaluation --------------------------\n",
            "\n",
            "Test loss: 0.6923234342956543\n",
            "Test accuracy: 0.52432\n"
          ],
          "name": "stdout"
        }
      ]
    },
    {
      "cell_type": "markdown",
      "metadata": {
        "id": "W_bmeRI7-Vk7",
        "colab_type": "text"
      },
      "source": [
        "# ============================= Model 2 ========================"
      ]
    },
    {
      "cell_type": "code",
      "metadata": {
        "id": "NQ-hZZV-6mUk",
        "colab_type": "code",
        "colab": {
          "base_uri": "https://localhost:8080/",
          "height": 1000
        },
        "outputId": "7e8a1fdb-4709-47ad-ac47-bad86d29c61b"
      },
      "source": [
        "#================== Create model ================\n",
        "model =  createModel(2)\n",
        "#================== Train model ================\n",
        "model,_ = trainModel(2,model,lr)\n",
        "#================== eval model ================\n",
        "loss_ci, acc_ci = evalModel(2,model)"
      ],
      "execution_count": 107,
      "outputs": [
        {
          "output_type": "stream",
          "text": [
            "\n",
            "-----------------  Training Starts  ------------------------------\n",
            "\n",
            "Train on 20000 samples, validate on 5000 samples\n",
            "Epoch 1/2\n",
            "20000/20000 [==============================] - 214s 11ms/step - loss: 0.6931 - acc: 0.5025 - val_loss: 0.6932 - val_acc: 0.4896\n",
            "\n",
            "Epoch 00001: val_acc improved from -inf to 0.48960, saving model to best_Model.h5\n",
            "Epoch 2/2\n",
            "20000/20000 [==============================] - 210s 11ms/step - loss: 0.6931 - acc: 0.5026 - val_loss: 0.6932 - val_acc: 0.4896\n",
            "\n",
            "Epoch 00002: val_acc did not improve from 0.48960\n",
            "\n",
            "-----------------  Training Ends  ------------------------------\n",
            "\n",
            "\n",
            "----------------------- Time ---------------------------\n",
            "\n",
            "\n",
            "Training time(sec):  429.553382396698 \n",
            "\n",
            "\n",
            "----------------------- Plots ---------------------------\n",
            "\n"
          ],
          "name": "stdout"
        },
        {
          "output_type": "display_data",
          "data": {
            "image/png": "[encoded data removed]",
            "text/plain": [
              "<Figure size 432x288 with 1 Axes>"
            ]
          },
          "metadata": {
            "tags": []
          }
        },
        {
          "output_type": "display_data",
          "data": {
            "image/png": "[encoded data removed]",
            "text/plain": [
              "<Figure size 432x288 with 1 Axes>"
            ]
          },
          "metadata": {
            "tags": []
          }
        },
        {
          "output_type": "stream",
          "text": [
            "\n",
            "-----------------  Model Summury  ------------------------------\n",
            "\n",
            "Model: \"sequential_27\"\n",
            "_________________________________________________________________\n",
            "Layer (type)                 Output Shape              Param #   \n",
            "=================================================================\n",
            "embedding_27 (Embedding)     (None, 200, 128)          12800000  \n",
            "_________________________________________________________________\n",
            "lstm_2 (LSTM)                (None, 200)               263200    \n",
            "_________________________________________________________________\n",
            "dense_27 (Dense)             (None, 1)                 201       \n",
            "=================================================================\n",
            "Total params: 13,063,401\n",
            "Trainable params: 13,063,401\n",
            "Non-trainable params: 0\n",
            "_________________________________________________________________\n",
            "None\n",
            "\n",
            "------------------------- Evaluation --------------------------\n",
            "\n",
            "Test loss: 0.6931473178100586\n",
            "Test accuracy: 0.5\n"
          ],
          "name": "stdout"
        }
      ]
    },
    {
      "cell_type": "markdown",
      "metadata": {
        "id": "bEfyktSW-X9R",
        "colab_type": "text"
      },
      "source": [
        "# ============================= Model 3 ========================"
      ]
    },
    {
      "cell_type": "code",
      "metadata": {
        "id": "G8TcgCCkx4bt",
        "colab_type": "code",
        "colab": {
          "base_uri": "https://localhost:8080/",
          "height": 1000
        },
        "outputId": "83586078-ec7a-40a3-b431-755643fcbdf7"
      },
      "source": [
        "#================== Create model ================\n",
        "model =  createModel(3)\n",
        "#================== Train model ================\n",
        "model,_ = trainModel(3,model,lr)\n",
        "#================== eval model ================\n",
        "loss_ci, acc_ci = evalModel(3,model)"
      ],
      "execution_count": 108,
      "outputs": [
        {
          "output_type": "stream",
          "text": [
            "\n",
            "-----------------  Training Starts  ------------------------------\n",
            "\n",
            "Train on 20000 samples, validate on 5000 samples\n",
            "Epoch 1/2\n",
            "20000/20000 [==============================] - 162s 8ms/step - loss: 0.6931 - acc: 0.5061 - val_loss: 0.6932 - val_acc: 0.5032\n",
            "\n",
            "Epoch 00001: val_acc improved from -inf to 0.50320, saving model to best_Model.h5\n",
            "Epoch 2/2\n",
            "20000/20000 [==============================] - 168s 8ms/step - loss: 0.6926 - acc: 0.5299 - val_loss: 0.6932 - val_acc: 0.4906\n",
            "\n",
            "Epoch 00002: val_acc did not improve from 0.50320\n",
            "\n",
            "-----------------  Training Ends  ------------------------------\n",
            "\n",
            "\n",
            "----------------------- Time ---------------------------\n",
            "\n",
            "\n",
            "Training time(sec):  336.3041865825653 \n",
            "\n",
            "\n",
            "----------------------- Plots ---------------------------\n",
            "\n"
          ],
          "name": "stdout"
        },
        {
          "output_type": "display_data",
          "data": {
            "image/png": "[encoded data removed]",
            "text/plain": [
              "<Figure size 432x288 with 1 Axes>"
            ]
          },
          "metadata": {
            "tags": []
          }
        },
        {
          "output_type": "display_data",
          "data": {
            "image/png": "[encoded data removed]",
            "text/plain": [
              "<Figure size 432x288 with 1 Axes>"
            ]
          },
          "metadata": {
            "tags": []
          }
        },
        {
          "output_type": "stream",
          "text": [
            "\n",
            "-----------------  Model Summury  ------------------------------\n",
            "\n",
            "Model: \"sequential_28\"\n",
            "_________________________________________________________________\n",
            "Layer (type)                 Output Shape              Param #   \n",
            "=================================================================\n",
            "embedding_28 (Embedding)     (None, 200, 128)          12800000  \n",
            "_________________________________________________________________\n",
            "gru_19 (GRU)                 (None, 200)               197400    \n",
            "_________________________________________________________________\n",
            "dense_28 (Dense)             (None, 1)                 201       \n",
            "=================================================================\n",
            "Total params: 12,997,601\n",
            "Trainable params: 12,997,601\n",
            "Non-trainable params: 0\n",
            "_________________________________________________________________\n",
            "None\n",
            "\n",
            "------------------------- Evaluation --------------------------\n",
            "\n",
            "Test loss: 0.6931666491699219\n",
            "Test accuracy: 0.50116\n"
          ],
          "name": "stdout"
        }
      ]
    },
    {
      "cell_type": "markdown",
      "metadata": {
        "id": "B50xwFEH-aHS",
        "colab_type": "text"
      },
      "source": [
        "# ============================= Model 4 ========================\n",
        "Q. Which model best 1-3?\n",
        "=> Model 1 is best.\n",
        "\n",
        "Q. Why this model is best?\n",
        "=> Because it maximum test accuracy and minimum loss    among all other model.\n",
        "\n",
        "Continuing with best model with 2 layer of RNN"
      ]
    },
    {
      "cell_type": "code",
      "metadata": {
        "id": "2upNutt9-GPU",
        "colab_type": "code",
        "colab": {
          "base_uri": "https://localhost:8080/",
          "height": 1000
        },
        "outputId": "f3502391-0df1-49bf-a1d9-805598e22fef"
      },
      "source": [
        "#================== Create model ================\n",
        "model =  createModel(1,2)\n",
        "#================== Train model ================\n",
        "model,_ = trainModel(4,model,lr)\n",
        "#================== eval model ================\n",
        "loss_ci, acc_ci = evalModel(4,model)"
      ],
      "execution_count": 139,
      "outputs": [
        {
          "output_type": "stream",
          "text": [
            "NoLayers: 2 \n",
            "\n",
            "\n",
            "-----------------  Training Starts  ------------------------------\n",
            "\n",
            "Train on 20000 samples, validate on 5000 samples\n",
            "Epoch 1/2\n",
            "20000/20000 [==============================] - 124s 6ms/step - loss: 0.6994 - acc: 0.5031 - val_loss: 0.7009 - val_acc: 0.5110\n",
            "\n",
            "Epoch 00001: val_acc improved from -inf to 0.51100, saving model to best_Model.h5\n",
            "Epoch 2/2\n",
            "20000/20000 [==============================] - 119s 6ms/step - loss: 0.6738 - acc: 0.5627 - val_loss: 0.6851 - val_acc: 0.5466\n",
            "\n",
            "Epoch 00002: val_acc improved from 0.51100 to 0.54660, saving model to best_Model.h5\n",
            "\n",
            "-----------------  Training Ends  ------------------------------\n",
            "\n",
            "\n",
            "----------------------- Time ---------------------------\n",
            "\n",
            "\n",
            "Training time(sec):  250.07916021347046 \n",
            "\n",
            "\n",
            "----------------------- Plots ---------------------------\n",
            "\n"
          ],
          "name": "stdout"
        },
        {
          "output_type": "display_data",
          "data": {
            "image/png": "[encoded data removed]",
            "text/plain": [
              "<Figure size 432x288 with 1 Axes>"
            ]
          },
          "metadata": {
            "tags": []
          }
        },
        {
          "output_type": "display_data",
          "data": {
            "image/png": "[encoded data removed]",
            "text/plain": [
              "<Figure size 432x288 with 1 Axes>"
            ]
          },
          "metadata": {
            "tags": []
          }
        },
        {
          "output_type": "stream",
          "text": [
            "\n",
            "-----------------  Model Summury  ------------------------------\n",
            "\n",
            "Model: \"sequential_47\"\n",
            "_________________________________________________________________\n",
            "Layer (type)                 Output Shape              Param #   \n",
            "=================================================================\n",
            "embedding_47 (Embedding)     (None, 200, 128)          12800000  \n",
            "_________________________________________________________________\n",
            "simple_rnn_35 (SimpleRNN)    (None, 200, 200)          65800     \n",
            "_________________________________________________________________\n",
            "simple_rnn_36 (SimpleRNN)    (None, 200)               80200     \n",
            "_________________________________________________________________\n",
            "dense_32 (Dense)             (None, 1)                 201       \n",
            "=================================================================\n",
            "Total params: 12,946,201\n",
            "Trainable params: 12,946,201\n",
            "Non-trainable params: 0\n",
            "_________________________________________________________________\n",
            "None\n",
            "\n",
            "------------------------- Evaluation --------------------------\n",
            "\n",
            "Test loss: 0.6857225845718384\n",
            "Test accuracy: 0.54384\n"
          ],
          "name": "stdout"
        }
      ]
    },
    {
      "cell_type": "markdown",
      "metadata": {
        "id": "ZETSAtix-9VY",
        "colab_type": "text"
      },
      "source": [
        "# ============================= Model 5 ========================\n",
        "Continuing with best model with 3 layer of RNN"
      ]
    },
    {
      "cell_type": "code",
      "metadata": {
        "id": "h5L134VO_B7X",
        "colab_type": "code",
        "colab": {
          "base_uri": "https://localhost:8080/",
          "height": 1000
        },
        "outputId": "bbd148b2-7f22-435a-8cc2-a50ae419a763"
      },
      "source": [
        "#================== Create model ================\n",
        "model =  createModel(1,3)\n",
        "#================== Train model ================\n",
        "model,_ = trainModel(5,model,lr)\n",
        "#================== eval model ================\n",
        "loss_ci, acc_ci = evalModel(5,model)"
      ],
      "execution_count": 143,
      "outputs": [
        {
          "output_type": "stream",
          "text": [
            "NoLayers: 3 \n",
            "\n",
            "\n",
            "-----------------  Training Starts  ------------------------------\n",
            "\n",
            "Train on 20000 samples, validate on 5000 samples\n",
            "Epoch 1/2\n",
            "20000/20000 [==============================] - 186s 9ms/step - loss: 0.7073 - acc: 0.5007 - val_loss: 0.6950 - val_acc: 0.5068\n",
            "\n",
            "Epoch 00001: val_acc improved from -inf to 0.50680, saving model to best_Model.h5\n",
            "Epoch 2/2\n",
            "20000/20000 [==============================] - 190s 10ms/step - loss: 0.6733 - acc: 0.5688 - val_loss: 0.7114 - val_acc: 0.5048\n",
            "\n",
            "Epoch 00002: val_acc did not improve from 0.50680\n",
            "Epoch 00002: early stopping\n",
            "\n",
            "-----------------  Training Ends  ------------------------------\n",
            "\n",
            "\n",
            "----------------------- Time ---------------------------\n",
            "\n",
            "\n",
            "Training time(sec):  386.42880868911743 \n",
            "\n",
            "\n",
            "----------------------- Plots ---------------------------\n",
            "\n"
          ],
          "name": "stdout"
        },
        {
          "output_type": "display_data",
          "data": {
            "image/png": "[encoded data removed]",
            "text/plain": [
              "<Figure size 432x288 with 1 Axes>"
            ]
          },
          "metadata": {
            "tags": []
          }
        },
        {
          "output_type": "display_data",
          "data": {
            "image/png": "[encoded data removed]",
            "text/plain": [
              "<Figure size 432x288 with 1 Axes>"
            ]
          },
          "metadata": {
            "tags": []
          }
        },
        {
          "output_type": "stream",
          "text": [
            "\n",
            "-----------------  Model Summury  ------------------------------\n",
            "\n",
            "Model: \"sequential_49\"\n",
            "_________________________________________________________________\n",
            "Layer (type)                 Output Shape              Param #   \n",
            "=================================================================\n",
            "embedding_49 (Embedding)     (None, 200, 128)          12800000  \n",
            "_________________________________________________________________\n",
            "simple_rnn_40 (SimpleRNN)    (None, 200, 200)          65800     \n",
            "_________________________________________________________________\n",
            "simple_rnn_41 (SimpleRNN)    (None, 200, 200)          80200     \n",
            "_________________________________________________________________\n",
            "simple_rnn_42 (SimpleRNN)    (None, 200)               80200     \n",
            "_________________________________________________________________\n",
            "dense_33 (Dense)             (None, 1)                 201       \n",
            "=================================================================\n",
            "Total params: 13,026,401\n",
            "Trainable params: 13,026,401\n",
            "Non-trainable params: 0\n",
            "_________________________________________________________________\n",
            "None\n",
            "\n",
            "------------------------- Evaluation --------------------------\n",
            "\n",
            "Test loss: 0.6942739552307129\n",
            "Test accuracy: 0.49832\n"
          ],
          "name": "stdout"
        }
      ]
    },
    {
      "cell_type": "markdown",
      "metadata": {
        "id": "XhMr61PMDtRD",
        "colab_type": "text"
      },
      "source": [
        "# ============================= Model 6 ========================\n",
        "\n",
        "In above model with 2 layer of RNN perform better hence continuing with it"
      ]
    },
    {
      "cell_type": "code",
      "metadata": {
        "id": "mfkPHmRmDvRa",
        "colab_type": "code",
        "colab": {
          "base_uri": "https://localhost:8080/",
          "height": 71
        },
        "outputId": "0f5590fd-b9ba-483e-ba9a-2a7da204875d"
      },
      "source": [
        "#========================================= Create and saving word2vec model ============================\n",
        "path = get_tmpfile(\"word2vec.model\")\n",
        "model_w2v = Word2Vec(train_df['X'], size=100, min_count=10, workers=multiprocessing.cpu_count())\n",
        "model_w2v.save(\"word2vec.model\")\n",
        "model_w2v = Word2Vec.load(\"word2vec.model\")"
      ],
      "execution_count": 148,
      "outputs": [
        {
          "output_type": "stream",
          "text": [
            "/usr/local/lib/python3.6/dist-packages/smart_open/smart_open_lib.py:398: UserWarning: This function is deprecated, use smart_open.open instead. See the migration notes for details: https://github.com/RaRe-Technologies/smart_open/blob/master/README.rst#migrating-to-the-new-open-function\n",
            "  'See the migration notes for details: %s' % _MIGRATION_NOTES_URL\n"
          ],
          "name": "stderr"
        }
      ]
    },
    {
      "cell_type": "code",
      "metadata": {
        "id": "FBC_EY4-Pxvn",
        "colab_type": "code",
        "colab": {}
      },
      "source": [
        "#============================== Creating both model i.e cbow and skipgram ========================== #\n",
        "min_count = 2\n",
        "model = models.Word2Vec(train_df['X'], min_count=min_count, size=100, workers=multiprocessing.cpu_count(), sg=0)"
      ],
      "execution_count": 0,
      "outputs": []
    },
    {
      "cell_type": "code",
      "metadata": {
        "id": "UFX-2opqMlOt",
        "colab_type": "code",
        "colab": {
          "base_uri": "https://localhost:8080/",
          "height": 85
        },
        "outputId": "603c67ba-be62-4f7c-b943-dd7193e1ad8c"
      },
      "source": [
        "#============================ Creating data for training===============\n",
        "def calculateWeightedAvg(X=None, wt=None):\n",
        "        ll = np.array(wt).reshape(-1,1)\n",
        "#         print(wt)\n",
        "#         print(ll)\n",
        "        # res = np.multiply(ll,np.array(X))\n",
        "#         print(res)\n",
        "        res=np.mean(ll, axis=0)\n",
        "        # res = np.sum(res, axis=0)/np.sum(wt)\n",
        "#         print(res)\n",
        "        return res.tolist()\n",
        "\n",
        "\n",
        "modeldata = []\n",
        "for doc in train_df['X']:\n",
        "    #take weighted avg. of each word in doc to find document vector\n",
        "    wvlist = []\n",
        "    count = []\n",
        "    for word in doc:\n",
        "        try: #if presend in model dict\n",
        "            wvlist.append(model.wv[word])\n",
        "            count.append(model.wv.vocab[word].count)\n",
        "        except:\n",
        "            pass\n",
        "    modeldata.append(calculateWeightedAvg(wvlist, count))\n",
        "\n",
        "\n",
        "modeldatatest = []\n",
        "for doc in test_df['X']:\n",
        "    #take weighted avg. of each word in doc to find document vector\n",
        "    wvlist = []\n",
        "    count = []\n",
        "    for word in doc:\n",
        "        try: #if presend in model dict\n",
        "            wvlist.append(model.wv[word])\n",
        "            count.append(model.wv.vocab[word].count)\n",
        "        except:\n",
        "            pass\n",
        "    modeldatatest.append(calculateWeightedAvg(wvlist, count))"
      ],
      "execution_count": 171,
      "outputs": [
        {
          "output_type": "stream",
          "text": [
            "/usr/local/lib/python3.6/dist-packages/numpy/core/fromnumeric.py:3257: RuntimeWarning: Mean of empty slice.\n",
            "  out=out, **kwargs)\n",
            "/usr/local/lib/python3.6/dist-packages/numpy/core/_methods.py:154: RuntimeWarning: invalid value encountered in true_divide\n",
            "  ret, rcount, out=ret, casting='unsafe', subok=False)\n"
          ],
          "name": "stderr"
        }
      ]
    },
    {
      "cell_type": "code",
      "metadata": {
        "id": "WB474U9DSFf6",
        "colab_type": "code",
        "colab": {}
      },
      "source": [
        "X_train, X_val, Y_train, Y_val = train_test_split(modeldata, train_df['Y'], test_size=0.8, random_state=1)\n",
        "X_test = modeldatatest\n",
        "Y_test = test_df['Y']"
      ],
      "execution_count": 0,
      "outputs": []
    },
    {
      "cell_type": "code",
      "metadata": {
        "id": "yHJIMAhgVO3E",
        "colab_type": "code",
        "colab": {}
      },
      "source": [
        "input_size = len(X_train[0])\n",
        "#================== Create model ================\n",
        "model =  createModel(1,2,1,input_size)\n",
        "#================== Train model ================\n",
        "model,_ = trainModel(6,model,lr)\n",
        "#================== eval model ================\n",
        "loss_ci, acc_ci = evalModel(6,model)"
      ],
      "execution_count": 0,
      "outputs": []
    },
    {
      "cell_type": "markdown",
      "metadata": {
        "id": "uSkI0c4d7IAA",
        "colab_type": "text"
      },
      "source": [
        "# ============================= Printing Table ===================="
      ]
    },
    {
      "cell_type": "code",
      "metadata": {
        "id": "dC3PoLHUTOpb",
        "colab_type": "code",
        "colab": {
          "base_uri": "https://localhost:8080/",
          "height": 136
        },
        "outputId": "456e32cf-1315-479a-a79e-8d130da1290f"
      },
      "source": [
        "print('model',\"\\t\",'TotalNoPara',\"\\t\",'TrainingTime',\"\\t\\t\",'TrainingAccuracy',\"\\t\\t\",'ValidationAccuracy',\"\\t\",'TestAccuracy')\n",
        "for i in range(1,7):\n",
        "  print(i,\"\\t\",TotalNoPara[i],\"\\t\\t\",\"{0:.2f}\".format(TrainingTime[i]),\"\\t\\t\",TrainingAccuracy[i],\"\\t\\t\",ValidationAccuracy[i],\"\\t\\t\",TestAccuracy[i])"
      ],
      "execution_count": 198,
      "outputs": [
        {
          "output_type": "stream",
          "text": [
            "model \t TotalNoPara \t TrainingTime \t\t TrainingAccuracy \t\t ValidationAccuracy \t TestAccuracy\n",
            "1 \t 12866001 \t\t 148.70 \t\t 0.6254 \t\t 0.5032 \t\t 0.52432\n",
            "2 \t 13063401 \t\t 429.55 \t\t 0.5026 \t\t 0.4896 \t\t 0.5\n",
            "3 \t 12997601 \t\t 336.30 \t\t 0.5258 \t\t 0.5032 \t\t 0.50116\n",
            "4 \t 12946201 \t\t 250.08 \t\t 0.64575 \t\t 0.5466 \t\t 0.54384\n",
            "5 \t 13026401 \t\t 386.43 \t\t 0.52805 \t\t 0.5068 \t\t 0.49832\n",
            "6 \t 13016401 \t\t 348.43 \t\t 0.45805 \t\t 0.4568 \t\t 0.4183\n"
          ],
          "name": "stdout"
        }
      ]
    },
    {
      "cell_type": "code",
      "metadata": {
        "id": "fIYXa0-V67gc",
        "colab_type": "code",
        "colab": {}
      },
      "source": [
        ""
      ],
      "execution_count": 0,
      "outputs": []
    }
  ]
}